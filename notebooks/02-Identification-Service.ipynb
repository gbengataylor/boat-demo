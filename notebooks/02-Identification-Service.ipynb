{
 "cells": [
  {
   "cell_type": "code",
   "execution_count": 1,
   "id": "061b2711",
   "metadata": {},
   "outputs": [],
   "source": [
    "from datetime import datetime\n",
    "import os\n",
    "import sys\n",
    "sys.path.insert(0, os.path.abspath('..'))\n",
    "\n",
    "import requests\n",
    "\n",
    "IDENT_URL = 'http://localhost:5050/v1/identify'"
   ]
  },
  {
   "cell_type": "code",
   "execution_count": 2,
   "id": "39178c7a",
   "metadata": {},
   "outputs": [
    {
     "data": {
      "text/plain": [
       "(datetime.datetime(2021, 4, 22, 3, 40, 31, 994728),\n",
       " None,\n",
       " {'objects': [{'box': [207.0, 509.0, 299.0, 532.0],\n",
       "    'confidence': 0.8941678404808044,\n",
       "    'class': 'boats',\n",
       "    'id': '0'},\n",
       "   {'box': [65.0, 326.0, 136.0, 403.0],\n",
       "    'confidence': 0.8731332421302795,\n",
       "    'class': 'boats',\n",
       "    'id': '1'},\n",
       "   {'box': [1066.0, 109.0, 1142.0, 171.0],\n",
       "    'confidence': 0.8629531264305115,\n",
       "    'class': 'boats',\n",
       "    'id': '2'},\n",
       "   {'box': [82.0, 602.0, 149.0, 671.0],\n",
       "    'confidence': 0.8608279228210449,\n",
       "    'class': 'boats',\n",
       "    'id': '3'},\n",
       "   {'box': [298.0, 438.0, 383.0, 461.0],\n",
       "    'confidence': 0.8419623374938965,\n",
       "    'class': 'boats',\n",
       "    'id': '4'},\n",
       "   {'box': [242.0, 0.0, 298.0, 19.0],\n",
       "    'confidence': 0.6364468932151794,\n",
       "    'class': 'boats',\n",
       "    'id': '5'}],\n",
       "  'tracking': {'next_id': 6, 'missing': {}}})"
      ]
     },
     "execution_count": 2,
     "metadata": {},
     "output_type": "execute_result"
    }
   ],
   "source": [
    "#time0 = pipeline.snap()\n",
    "time0 = (datetime(2021, 4, 22, 3, 40, 31, 994728),\n",
    " None,\n",
    " {'objects': [{'box': [207.0, 509.0, 299.0, 532.0],\n",
    "      'confidence': 0.8941678404808044,\n",
    "      'class': 'boats'},\n",
    "     {'box': [65.0, 326.0, 136.0, 403.0],\n",
    "      'confidence': 0.8731332421302795,\n",
    "      'class': 'boats'},\n",
    "     {'box': [1066.0, 109.0, 1142.0, 171.0],\n",
    "      'confidence': 0.8629531264305115,\n",
    "      'class': 'boats'},\n",
    "     {'box': [82.0, 602.0, 149.0, 671.0],\n",
    "      'confidence': 0.8608279228210449,\n",
    "      'class': 'boats'},\n",
    "     {'box': [298.0, 438.0, 383.0, 461.0],\n",
    "      'confidence': 0.8419623374938965,\n",
    "      'class': 'boats'},\n",
    "     {'box': [242.0, 0.0, 298.0, 19.0],\n",
    "      'confidence': 0.6364468932151794,\n",
    "      'class': 'boats'}]})\n",
    "#time1 = pipeline.snap()\n",
    "time1 = (datetime(2021, 4, 22, 3, 40, 32, 757943),\n",
    " None,\n",
    " {'objects': [{'box': [211.0, 508.0, 307.0, 532.0],\n",
    "      'confidence': 0.8908742070198059,\n",
    "      'class': 'boats'},\n",
    "     {'box': [1073.0, 113.0, 1147.0, 176.0],\n",
    "      'confidence': 0.8825204968452454,\n",
    "      'class': 'boats'},\n",
    "     {'box': [67.0, 325.0, 136.0, 405.0],\n",
    "      'confidence': 0.8686448931694031,\n",
    "      'class': 'boats'},\n",
    "     {'box': [81.0, 601.0, 151.0, 672.0],\n",
    "      'confidence': 0.8586115837097168,\n",
    "      'class': 'boats'},\n",
    "     {'box': [305.0, 438.0, 390.0, 462.0],\n",
    "      'confidence': 0.8368647694587708,\n",
    "      'class': 'boats'}]})\n",
    "\n",
    "\n",
    "response = requests.post(IDENT_URL, json={\"last\": time0[2]}).json()\n",
    "time0 = (time0[0], time0[1], response)\n",
    "time0"
   ]
  },
  {
   "cell_type": "code",
   "execution_count": 3,
   "id": "44278437",
   "metadata": {},
   "outputs": [
    {
     "data": {
      "text/plain": [
       "(datetime.datetime(2021, 4, 22, 3, 40, 32, 757943),\n",
       " None,\n",
       " {'objects': [{'box': [211.0, 508.0, 307.0, 532.0],\n",
       "    'confidence': 0.8908742070198059,\n",
       "    'class': 'boats',\n",
       "    'id': '0',\n",
       "    'centroid': [259.0, 520.0]},\n",
       "   {'box': [1073.0, 113.0, 1147.0, 176.0],\n",
       "    'confidence': 0.8825204968452454,\n",
       "    'class': 'boats',\n",
       "    'id': '2',\n",
       "    'centroid': [1110.0, 144.5]},\n",
       "   {'box': [67.0, 325.0, 136.0, 405.0],\n",
       "    'confidence': 0.8686448931694031,\n",
       "    'class': 'boats',\n",
       "    'id': '1',\n",
       "    'centroid': [101.5, 365.0]},\n",
       "   {'box': [81.0, 601.0, 151.0, 672.0],\n",
       "    'confidence': 0.8586115837097168,\n",
       "    'class': 'boats',\n",
       "    'id': '3',\n",
       "    'centroid': [116.0, 636.5]},\n",
       "   {'box': [305.0, 438.0, 390.0, 462.0],\n",
       "    'confidence': 0.8368647694587708,\n",
       "    'class': 'boats',\n",
       "    'id': '4',\n",
       "    'centroid': [347.5, 450.0]}],\n",
       "  'tracking': {'next_id': 6,\n",
       "   'missing': {'5': {'box': [242.0, 0.0, 298.0, 19.0],\n",
       "     'confidence': 0.6364468932151794,\n",
       "     'class': 'boats',\n",
       "     'id': '5',\n",
       "     'frames': 1}}}})"
      ]
     },
     "execution_count": 3,
     "metadata": {},
     "output_type": "execute_result"
    }
   ],
   "source": [
    "response = requests.post(IDENT_URL, json={\"last\": time0[2], \"now\": time1[2]}).json()\n",
    "time1 = (time1[0], time1[1], response)\n",
    "time1"
   ]
  },
  {
   "cell_type": "code",
   "execution_count": 4,
   "id": "4d3c65dc",
   "metadata": {},
   "outputs": [
    {
     "ename": "JSONDecodeError",
     "evalue": "Expecting value: line 1 column 1 (char 0)",
     "output_type": "error",
     "traceback": [
      "\u001b[0;31m---------------------------------------------------------------------------\u001b[0m",
      "\u001b[0;31mJSONDecodeError\u001b[0m                           Traceback (most recent call last)",
      "\u001b[0;32m<ipython-input-4-d8016161e2ae>\u001b[0m in \u001b[0;36m<module>\u001b[0;34m\u001b[0m\n\u001b[0;32m----> 1\u001b[0;31m \u001b[0mresponse\u001b[0m \u001b[0;34m=\u001b[0m \u001b[0mrequests\u001b[0m\u001b[0;34m.\u001b[0m\u001b[0mpost\u001b[0m\u001b[0;34m(\u001b[0m\u001b[0mIDENT_URL\u001b[0m\u001b[0;34m,\u001b[0m \u001b[0mjson\u001b[0m\u001b[0;34m=\u001b[0m\u001b[0;34m{\u001b[0m\u001b[0;34m\"last\"\u001b[0m\u001b[0;34m:\u001b[0m \u001b[0mtime1\u001b[0m\u001b[0;34m[\u001b[0m\u001b[0;36m2\u001b[0m\u001b[0;34m]\u001b[0m\u001b[0;34m,\u001b[0m \u001b[0;34m\"now\"\u001b[0m\u001b[0;34m:\u001b[0m \u001b[0mtime0\u001b[0m\u001b[0;34m[\u001b[0m\u001b[0;36m2\u001b[0m\u001b[0;34m]\u001b[0m\u001b[0;34m}\u001b[0m\u001b[0;34m)\u001b[0m\u001b[0;34m.\u001b[0m\u001b[0mjson\u001b[0m\u001b[0;34m(\u001b[0m\u001b[0;34m)\u001b[0m\u001b[0;34m\u001b[0m\u001b[0;34m\u001b[0m\u001b[0m\n\u001b[0m\u001b[1;32m      2\u001b[0m \u001b[0mtime2\u001b[0m \u001b[0;34m=\u001b[0m \u001b[0;34m(\u001b[0m\u001b[0;32mNone\u001b[0m\u001b[0;34m,\u001b[0m \u001b[0;32mNone\u001b[0m\u001b[0;34m,\u001b[0m \u001b[0mresponse\u001b[0m\u001b[0;34m)\u001b[0m\u001b[0;34m\u001b[0m\u001b[0;34m\u001b[0m\u001b[0m\n\u001b[1;32m      3\u001b[0m \u001b[0mtime2\u001b[0m\u001b[0;34m\u001b[0m\u001b[0;34m\u001b[0m\u001b[0m\n",
      "\u001b[0;32m/opt/app-root/lib64/python3.8/site-packages/requests/models.py\u001b[0m in \u001b[0;36mjson\u001b[0;34m(self, **kwargs)\u001b[0m\n\u001b[1;32m    898\u001b[0m                     \u001b[0;31m# used.\u001b[0m\u001b[0;34m\u001b[0m\u001b[0;34m\u001b[0m\u001b[0;34m\u001b[0m\u001b[0m\n\u001b[1;32m    899\u001b[0m                     \u001b[0;32mpass\u001b[0m\u001b[0;34m\u001b[0m\u001b[0;34m\u001b[0m\u001b[0m\n\u001b[0;32m--> 900\u001b[0;31m         \u001b[0;32mreturn\u001b[0m \u001b[0mcomplexjson\u001b[0m\u001b[0;34m.\u001b[0m\u001b[0mloads\u001b[0m\u001b[0;34m(\u001b[0m\u001b[0mself\u001b[0m\u001b[0;34m.\u001b[0m\u001b[0mtext\u001b[0m\u001b[0;34m,\u001b[0m \u001b[0;34m**\u001b[0m\u001b[0mkwargs\u001b[0m\u001b[0;34m)\u001b[0m\u001b[0;34m\u001b[0m\u001b[0;34m\u001b[0m\u001b[0m\n\u001b[0m\u001b[1;32m    901\u001b[0m \u001b[0;34m\u001b[0m\u001b[0m\n\u001b[1;32m    902\u001b[0m     \u001b[0;34m@\u001b[0m\u001b[0mproperty\u001b[0m\u001b[0;34m\u001b[0m\u001b[0;34m\u001b[0m\u001b[0m\n",
      "\u001b[0;32m/usr/lib64/python3.8/json/__init__.py\u001b[0m in \u001b[0;36mloads\u001b[0;34m(s, cls, object_hook, parse_float, parse_int, parse_constant, object_pairs_hook, **kw)\u001b[0m\n\u001b[1;32m    355\u001b[0m             \u001b[0mparse_int\u001b[0m \u001b[0;32mis\u001b[0m \u001b[0;32mNone\u001b[0m \u001b[0;32mand\u001b[0m \u001b[0mparse_float\u001b[0m \u001b[0;32mis\u001b[0m \u001b[0;32mNone\u001b[0m \u001b[0;32mand\u001b[0m\u001b[0;34m\u001b[0m\u001b[0;34m\u001b[0m\u001b[0m\n\u001b[1;32m    356\u001b[0m             parse_constant is None and object_pairs_hook is None and not kw):\n\u001b[0;32m--> 357\u001b[0;31m         \u001b[0;32mreturn\u001b[0m \u001b[0m_default_decoder\u001b[0m\u001b[0;34m.\u001b[0m\u001b[0mdecode\u001b[0m\u001b[0;34m(\u001b[0m\u001b[0ms\u001b[0m\u001b[0;34m)\u001b[0m\u001b[0;34m\u001b[0m\u001b[0;34m\u001b[0m\u001b[0m\n\u001b[0m\u001b[1;32m    358\u001b[0m     \u001b[0;32mif\u001b[0m \u001b[0mcls\u001b[0m \u001b[0;32mis\u001b[0m \u001b[0;32mNone\u001b[0m\u001b[0;34m:\u001b[0m\u001b[0;34m\u001b[0m\u001b[0;34m\u001b[0m\u001b[0m\n\u001b[1;32m    359\u001b[0m         \u001b[0mcls\u001b[0m \u001b[0;34m=\u001b[0m \u001b[0mJSONDecoder\u001b[0m\u001b[0;34m\u001b[0m\u001b[0;34m\u001b[0m\u001b[0m\n",
      "\u001b[0;32m/usr/lib64/python3.8/json/decoder.py\u001b[0m in \u001b[0;36mdecode\u001b[0;34m(self, s, _w)\u001b[0m\n\u001b[1;32m    335\u001b[0m \u001b[0;34m\u001b[0m\u001b[0m\n\u001b[1;32m    336\u001b[0m         \"\"\"\n\u001b[0;32m--> 337\u001b[0;31m         \u001b[0mobj\u001b[0m\u001b[0;34m,\u001b[0m \u001b[0mend\u001b[0m \u001b[0;34m=\u001b[0m \u001b[0mself\u001b[0m\u001b[0;34m.\u001b[0m\u001b[0mraw_decode\u001b[0m\u001b[0;34m(\u001b[0m\u001b[0ms\u001b[0m\u001b[0;34m,\u001b[0m \u001b[0midx\u001b[0m\u001b[0;34m=\u001b[0m\u001b[0m_w\u001b[0m\u001b[0;34m(\u001b[0m\u001b[0ms\u001b[0m\u001b[0;34m,\u001b[0m \u001b[0;36m0\u001b[0m\u001b[0;34m)\u001b[0m\u001b[0;34m.\u001b[0m\u001b[0mend\u001b[0m\u001b[0;34m(\u001b[0m\u001b[0;34m)\u001b[0m\u001b[0;34m)\u001b[0m\u001b[0;34m\u001b[0m\u001b[0;34m\u001b[0m\u001b[0m\n\u001b[0m\u001b[1;32m    338\u001b[0m         \u001b[0mend\u001b[0m \u001b[0;34m=\u001b[0m \u001b[0m_w\u001b[0m\u001b[0;34m(\u001b[0m\u001b[0ms\u001b[0m\u001b[0;34m,\u001b[0m \u001b[0mend\u001b[0m\u001b[0;34m)\u001b[0m\u001b[0;34m.\u001b[0m\u001b[0mend\u001b[0m\u001b[0;34m(\u001b[0m\u001b[0;34m)\u001b[0m\u001b[0;34m\u001b[0m\u001b[0;34m\u001b[0m\u001b[0m\n\u001b[1;32m    339\u001b[0m         \u001b[0;32mif\u001b[0m \u001b[0mend\u001b[0m \u001b[0;34m!=\u001b[0m \u001b[0mlen\u001b[0m\u001b[0;34m(\u001b[0m\u001b[0ms\u001b[0m\u001b[0;34m)\u001b[0m\u001b[0;34m:\u001b[0m\u001b[0;34m\u001b[0m\u001b[0;34m\u001b[0m\u001b[0m\n",
      "\u001b[0;32m/usr/lib64/python3.8/json/decoder.py\u001b[0m in \u001b[0;36mraw_decode\u001b[0;34m(self, s, idx)\u001b[0m\n\u001b[1;32m    353\u001b[0m             \u001b[0mobj\u001b[0m\u001b[0;34m,\u001b[0m \u001b[0mend\u001b[0m \u001b[0;34m=\u001b[0m \u001b[0mself\u001b[0m\u001b[0;34m.\u001b[0m\u001b[0mscan_once\u001b[0m\u001b[0;34m(\u001b[0m\u001b[0ms\u001b[0m\u001b[0;34m,\u001b[0m \u001b[0midx\u001b[0m\u001b[0;34m)\u001b[0m\u001b[0;34m\u001b[0m\u001b[0;34m\u001b[0m\u001b[0m\n\u001b[1;32m    354\u001b[0m         \u001b[0;32mexcept\u001b[0m \u001b[0mStopIteration\u001b[0m \u001b[0;32mas\u001b[0m \u001b[0merr\u001b[0m\u001b[0;34m:\u001b[0m\u001b[0;34m\u001b[0m\u001b[0;34m\u001b[0m\u001b[0m\n\u001b[0;32m--> 355\u001b[0;31m             \u001b[0;32mraise\u001b[0m \u001b[0mJSONDecodeError\u001b[0m\u001b[0;34m(\u001b[0m\u001b[0;34m\"Expecting value\"\u001b[0m\u001b[0;34m,\u001b[0m \u001b[0ms\u001b[0m\u001b[0;34m,\u001b[0m \u001b[0merr\u001b[0m\u001b[0;34m.\u001b[0m\u001b[0mvalue\u001b[0m\u001b[0;34m)\u001b[0m \u001b[0;32mfrom\u001b[0m \u001b[0;32mNone\u001b[0m\u001b[0;34m\u001b[0m\u001b[0;34m\u001b[0m\u001b[0m\n\u001b[0m\u001b[1;32m    356\u001b[0m         \u001b[0;32mreturn\u001b[0m \u001b[0mobj\u001b[0m\u001b[0;34m,\u001b[0m \u001b[0mend\u001b[0m\u001b[0;34m\u001b[0m\u001b[0;34m\u001b[0m\u001b[0m\n",
      "\u001b[0;31mJSONDecodeError\u001b[0m: Expecting value: line 1 column 1 (char 0)"
     ]
    }
   ],
   "source": [
    "response = requests.post(IDENT_URL, json={\"last\": time1[2], \"now\": time0[2]}).json()\n",
    "time2 = (None, None, response)\n",
    "time2"
   ]
  },
  {
   "cell_type": "code",
   "execution_count": null,
   "id": "33b142fa",
   "metadata": {},
   "outputs": [],
   "source": []
  }
 ],
 "metadata": {
  "kernelspec": {
   "display_name": "Python 3",
   "language": "python",
   "name": "python3"
  },
  "language_info": {
   "codemirror_mode": {
    "name": "ipython",
    "version": 3
   },
   "file_extension": ".py",
   "mimetype": "text/x-python",
   "name": "python",
   "nbconvert_exporter": "python",
   "pygments_lexer": "ipython3",
   "version": "3.8.3"
  }
 },
 "nbformat": 4,
 "nbformat_minor": 5
}
