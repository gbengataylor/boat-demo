{
 "cells": [
  {
   "cell_type": "code",
   "execution_count": 1,
   "id": "49e2ec98",
   "metadata": {
    "tags": []
   },
   "outputs": [],
   "source": [
    "import io\n",
    "import ipywidgets\n",
    "from ipywidgets import GridBox, GridspecLayout, VBox, Button, Video, Checkbox, Textarea, Image"
   ]
  },
  {
   "cell_type": "code",
   "execution_count": null,
   "id": "7466be39",
   "metadata": {},
   "outputs": [],
   "source": [
    "# Grid Layout https://ipywidgets.readthedocs.io/en/latest/examples/Layout%20Templates.html?highlight=grid#Grid-layout\n",
    "def create_feed_widget(livefd):\n",
    "    output = io.BytesIO()\n",
    "    img = livefd.snap()\n",
    "    img.save(output, format='PNG')\n",
    "    output.seek(0)\n",
    "    img_data = output.read()\n",
    "    output.close()\n",
    "    \n",
    "    a = Image(value=img_data,format='png')\n",
    "    a.stop = False\n",
    "    \n",
    "    def loop():\n",
    "        while not a.stop:\n",
    "            time.sleep(0.5)\n",
    "            output = io.BytesIO()\n",
    "            img = livefd.snap()\n",
    "            img.save(output, format='PNG')\n",
    "            output.seek(0)\n",
    "            img_data = output.read()\n",
    "            output.close()\n",
    "            a.value = img_data\n",
    "        \n",
    "    threading.Thread(target=loop).start()\n",
    "    return a\n",
    "\n",
    "def create_expanded_button(description, button_style):\n",
    "    return Button(description=description, button_style=button_style, layout=Layout(height='auto', width='auto'))\n",
    "\n",
    "def start_button():\n",
    "    return Button(description=\"Start\", button_style=\"success\", icon='play')\n",
    "\n",
    "def stop_button():\n",
    "    return Button(description=\"Stop\", button_style=\"warning\", icon='stop')\n",
    "\n",
    "def checkbox0():\n",
    "    return Checkbox(value=False, description='Show Objects (Class)', disabled=False, indent=False)\n",
    "\n",
    "def checkbox1():\n",
    "    return Checkbox(value=False, description='Show IDs', disabled=False, indent=False)\n",
    "\n",
    "def checkbox2():\n",
    "    return Checkbox(value=False, description='Show Groups', disabled=False, indent=False)\n",
    "\n",
    "def ascii():\n",
    "    return Textarea(areavalue='ASCII', disabled=True)\n",
    "\n",
    "grid = GridspecLayout(3, 3, height='auto')\n",
    "grid[0, 0] = VBox([start_button(), stop_button(), checkbox0(), checkbox1(), checkbox2()])\n",
    "grid[1:, 0] = ascii()\n",
    "grid[:3, 1:] = create_feed_widget(live_feed)\n",
    "grid"
   ]
  },
  {
   "cell_type": "code",
   "execution_count": null,
   "id": "3d701d49",
   "metadata": {},
   "outputs": [],
   "source": []
  }
 ],
 "metadata": {
  "kernelspec": {
   "display_name": "Python 3",
   "language": "python",
   "name": "python3"
  },
  "language_info": {
   "codemirror_mode": {
    "name": "ipython",
    "version": 3
   },
   "file_extension": ".py",
   "mimetype": "text/x-python",
   "name": "python",
   "nbconvert_exporter": "python",
   "pygments_lexer": "ipython3",
   "version": "3.8.3"
  }
 },
 "nbformat": 4,
 "nbformat_minor": 5
}
