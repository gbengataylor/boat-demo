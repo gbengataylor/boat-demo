{
 "cells": [
  {
   "cell_type": "markdown",
   "metadata": {},
   "source": [
    "# Detection Service"
   ]
  },
  {
   "cell_type": "code",
   "execution_count": 1,
   "metadata": {},
   "outputs": [],
   "source": [
    "import os\n",
    "import sys\n",
    "import time\n",
    "import io\n",
    "import threading\n",
    "from datetime import datetime\n",
    "import random\n",
    "sys.path.insert(0, os.path.abspath('..'))\n",
    "\n",
    "import cv2\n",
    "import requests\n",
    "from  matplotlib import pyplot as plt\n",
    "from IPython.display import clear_output\n",
    "from ipywidgets import widgets\n",
    "from PIL import Image, ImageDraw\n",
    "from IPython.core.display import display\n",
    "import numpy as np\n",
    "import scipy.spatial\n",
    "\n",
    "DETECTION_URL = 'http://boat-detect:8080/v1/detect'\n",
    "STREAM_URL = 'http://10.10.117.249:8080/'"
   ]
  },
  {
   "cell_type": "code",
   "execution_count": 2,
   "metadata": {},
   "outputs": [],
   "source": [
    "def feed_widget(livefd):\n",
    "    timestamp, img, meta = livefd.snap()\n",
    "    a = widgets.Image(value=pil2pngs(img),format='png')\n",
    "    a.stop = False\n",
    "    \n",
    "    def loop():\n",
    "        while not a.stop:\n",
    "            time.sleep(0.5)\n",
    "            timestamp, img, meta = livefd.snap()\n",
    "            a.value = pil2pngs(img)\n",
    "        \n",
    "    threading.Thread(target=loop).start()\n",
    "    return a"
   ]
  },
  {
   "cell_type": "code",
   "execution_count": 3,
   "metadata": {},
   "outputs": [],
   "source": [
    "def pil2pngs(img):\n",
    "    output = io.BytesIO()\n",
    "    img.save(output, format='PNG')\n",
    "    output.seek(0)\n",
    "    img_data = output.read()\n",
    "    output.close()\n",
    "    \n",
    "    return img_data"
   ]
  },
  {
   "cell_type": "code",
   "execution_count": 4,
   "metadata": {},
   "outputs": [],
   "source": [
    "class RemoteCameraSource(object):\n",
    "    \n",
    "    def __init__(self, url):\n",
    "        self._url = url\n",
    "        self._thread = None\n",
    "        self._stream = None\n",
    "        self._connecting = False\n",
    "        self._last_frame = None\n",
    "        self._last_frame_time = None\n",
    "        self._next = None\n",
    "        \n",
    "    def __del__(self):\n",
    "        self.stop_stream()\n",
    "        \n",
    "    def snap(self):\n",
    "        # returns (timestamp, image, metadata)\n",
    "        if self._last_frame is not None:\n",
    "            return (\n",
    "                self._last_frame_time,\n",
    "                Image.fromarray(\n",
    "                    cv2.cvtColor(self._last_frame, cv2.COLOR_BGR2RGB), \n",
    "                    \"RGB\"),\n",
    "                {}\n",
    "            )\n",
    "        else:\n",
    "            return (None, None, {})\n",
    "    \n",
    "    def reconnect(self):\n",
    "        while self._connecting:\n",
    "            time.sleep(1)\n",
    "                \n",
    "        self._connecting = True\n",
    "        \n",
    "        connected = False\n",
    "        while not connected:\n",
    "            self._stream = cv2.VideoCapture(self._url)\n",
    "            connected = self._stream.isOpened()\n",
    "            if connected:\n",
    "                self._connecting = False\n",
    "                return\n",
    "            \n",
    "            print('Could not connect to {}'.format(self._url))\n",
    "            print('Retrying in 1 minute')\n",
    "            \n",
    "            time.sleep(60)\n",
    "            \n",
    "    def start_stream(self):\n",
    "        if self._thread and self._thread.is_alive():\n",
    "            print('Thread already running')\n",
    "            return\n",
    "        \n",
    "        self.reconnect()\n",
    "        \n",
    "        self._thread = threading.Thread(target=self._watch, args=())\n",
    "        self._thread.start()\n",
    "        \n",
    "    def stop_stream(self):\n",
    "        self._stream.release()\n",
    "        \n",
    "    def _watch(self):\n",
    "        fail_counter = 0\n",
    "        while self._stream.isOpened():\n",
    "            frame_time = datetime.now()\n",
    "            ret, frame = self._stream.read()\n",
    "            \n",
    "            if not ret:\n",
    "                fail_counter += 1\n",
    "            else:\n",
    "                fail_counter = 0\n",
    "                self._last_frame_time = frame_time\n",
    "                self._last_frame = frame\n",
    "                if self._next:\n",
    "                    self._run_next()\n",
    "            \n",
    "            time.sleep(0.01)\n",
    "                \n",
    "            if fail_counter > 50:\n",
    "                self.reconnect()\n",
    "                fail_counter = 0        \n",
    "                \n",
    "        self._stream.release()\n",
    "        \n",
    "    def _run_next(self):\n",
    "        threading.Thread(target=self._next).start()\n",
    "        \n",
    "    def register(self, next_step):\n",
    "        self._next = next_step"
   ]
  },
  {
   "cell_type": "code",
   "execution_count": 5,
   "metadata": {},
   "outputs": [],
   "source": [
    "live_feed = RemoteCameraSource(STREAM_URL)\n",
    "live_feed.start_stream()"
   ]
  },
  {
   "cell_type": "code",
   "execution_count": 6,
   "metadata": {},
   "outputs": [
    {
     "data": {
      "application/vnd.jupyter.widget-view+json": {
       "model_id": "8723380352e7439780ce7872f4a1a1d8",
       "version_major": 2,
       "version_minor": 0
      },
      "text/plain": [
       "Image(value=b'\\x89PNG\\r\\n\\x1a\\n\\x00\\x00\\x00\\rIHDR\\x00\\x00\\x05\\x00\\x00\\x00\\x02\\xd0\\x08\\x02\\x00\\x00\\x00@\\x1fJ\\x0…"
      ]
     },
     "metadata": {},
     "output_type": "display_data"
    }
   ],
   "source": [
    "while not live_feed.snap()[0]:\n",
    "    time.sleep(1)\n",
    "    \n",
    "preview = feed_widget(live_feed)\n",
    "preview    "
   ]
  },
  {
   "cell_type": "code",
   "execution_count": 7,
   "metadata": {},
   "outputs": [],
   "source": [
    "class DetectionFilter(object):\n",
    "    def __init__(self, source, url, overlay=False):\n",
    "        self._source = source\n",
    "        self._data = {}\n",
    "        self._overlay = overlay\n",
    "        self._url = url\n",
    "        self._last_snap = self._source.snap()\n",
    "        self._running = False\n",
    "        \n",
    "        self._source.register(self.detect)\n",
    "        \n",
    "    @property\n",
    "    def overlay(self):\n",
    "        return self._overlay\n",
    "    \n",
    "    @overlay.setter\n",
    "    def overlay(self, val):\n",
    "        self._overlay = bool(val)\n",
    "        \n",
    "    def snap(self):\n",
    "        return self._last_snap\n",
    "    \n",
    "    def detect(self):\n",
    "        if not self._running:\n",
    "            self._running = True\n",
    "            timestamp, img, metadata = self._source.snap()\n",
    "            response = requests.post(\n",
    "                self._url, files={\"image\": pil2pngs(img)}).json()\n",
    "\n",
    "            if self._overlay:\n",
    "                canvas = ImageDraw.Draw(img)\n",
    "                for item in response['objects']:\n",
    "                    canvas.rectangle(item['box'], outline='red')\n",
    "\n",
    "            metadata.setdefault('detect', []).append(response)\n",
    "            \n",
    "            self._last_snap = (timestamp, img, metadata)\n",
    "            self._running = False"
   ]
  },
  {
   "cell_type": "code",
   "execution_count": 8,
   "metadata": {},
   "outputs": [
    {
     "data": {
      "application/vnd.jupyter.widget-view+json": {
       "model_id": "e010267c8de040d1893107eec66cc93e",
       "version_major": 2,
       "version_minor": 0
      },
      "text/plain": [
       "Image(value=b'\\x89PNG\\r\\n\\x1a\\n\\x00\\x00\\x00\\rIHDR\\x00\\x00\\x05\\x00\\x00\\x00\\x02\\xd0\\x08\\x02\\x00\\x00\\x00@\\x1fJ\\x0…"
      ]
     },
     "metadata": {},
     "output_type": "display_data"
    }
   ],
   "source": [
    "pipeline = DetectionFilter(live_feed, DETECTION_URL, True)\n",
    "\n",
    "while not pipeline.snap()[0]:\n",
    "    time.sleep(1)\n",
    "    \n",
    "preview2 = feed_widget(pipeline)\n",
    "preview2    "
   ]
  },
  {
   "cell_type": "markdown",
   "metadata": {},
   "source": [
    "# Object Identification"
   ]
  },
  {
   "cell_type": "code",
   "execution_count": 9,
   "metadata": {},
   "outputs": [],
   "source": [
    "#time0 = pipeline.snap()\n",
    "time0 = (datetime(2021, 4, 22, 3, 40, 31, 994728),\n",
    " None,\n",
    " {'detect': [{'objects': [{'box': [207.0, 509.0, 299.0, 532.0],\n",
    "      'confidence': 0.8941678404808044,\n",
    "      'class': 'boats'},\n",
    "     {'box': [65.0, 326.0, 136.0, 403.0],\n",
    "      'confidence': 0.8731332421302795,\n",
    "      'class': 'boats'},\n",
    "     {'box': [1066.0, 109.0, 1142.0, 171.0],\n",
    "      'confidence': 0.8629531264305115,\n",
    "      'class': 'boats'},\n",
    "     {'box': [82.0, 602.0, 149.0, 671.0],\n",
    "      'confidence': 0.8608279228210449,\n",
    "      'class': 'boats'},\n",
    "     {'box': [298.0, 438.0, 383.0, 461.0],\n",
    "      'confidence': 0.8419623374938965,\n",
    "      'class': 'boats'},\n",
    "     {'box': [242.0, 0.0, 298.0, 19.0],\n",
    "      'confidence': 0.6364468932151794,\n",
    "      'class': 'boats'}]}]})\n",
    "time.sleep(1)\n",
    "#time1 = pipeline.snap()\n",
    "time1 = (datetime(2021, 4, 22, 3, 40, 32, 757943),\n",
    " None,\n",
    " {'detect': [{'objects': [{'box': [211.0, 508.0, 307.0, 532.0],\n",
    "      'confidence': 0.8908742070198059,\n",
    "      'class': 'boats'},\n",
    "     {'box': [1073.0, 113.0, 1147.0, 176.0],\n",
    "      'confidence': 0.8825204968452454,\n",
    "      'class': 'boats'},\n",
    "     {'box': [67.0, 325.0, 136.0, 405.0],\n",
    "      'confidence': 0.8686448931694031,\n",
    "      'class': 'boats'},\n",
    "     {'box': [81.0, 601.0, 151.0, 672.0],\n",
    "      'confidence': 0.8586115837097168,\n",
    "      'class': 'boats'},\n",
    "     {'box': [305.0, 438.0, 390.0, 462.0],\n",
    "      'confidence': 0.8368647694587708,\n",
    "      'class': 'boats'}]}]})"
   ]
  },
  {
   "cell_type": "code",
   "execution_count": 10,
   "metadata": {},
   "outputs": [
    {
     "name": "stdout",
     "output_type": "stream",
     "text": [
      "[33 20 47  9 33 12]\n",
      "[33 47 20  9 33]\n"
     ]
    }
   ],
   "source": [
    "# calculate centroids of all objects\n",
    "centroids0 = [np.mean(np.array(item['box']).reshape((2, 2)), axis=0)\n",
    "              for item in time0[2]['detect'][-1]['objects']]\n",
    "ids0 = np.array([random.randint(0,50) for i in range(len(centroids0))]) # make some fake ids like mclovin\n",
    "centroids1 = [np.mean(np.array(item['box']).reshape((2, 2)), axis=0)\n",
    "              for item in time1[2]['detect'][-1]['objects']]\n",
    "\n",
    "# calcualte distance between all new and all old objects\n",
    "distances = scipy.spatial.distance.cdist(centroids1, centroids0)\n",
    "\n",
    "# assume the shortest distance moved is the match\n",
    "new2old = [distances[idx].argmin() for idx in range(distances.shape[0])]\n",
    "ids1 = ids0[new2old]\n",
    "\n",
    "print(ids0)\n",
    "print(ids1)"
   ]
  },
  {
   "cell_type": "code",
   "execution_count": null,
   "metadata": {},
   "outputs": [],
   "source": []
  },
  {
   "cell_type": "code",
   "execution_count": null,
   "metadata": {},
   "outputs": [],
   "source": []
  }
 ],
 "metadata": {
  "kernelspec": {
   "display_name": "Python 3",
   "language": "python",
   "name": "python3"
  },
  "language_info": {
   "codemirror_mode": {
    "name": "ipython",
    "version": 3
   },
   "file_extension": ".py",
   "mimetype": "text/x-python",
   "name": "python",
   "nbconvert_exporter": "python",
   "pygments_lexer": "ipython3",
   "version": "3.8.3"
  }
 },
 "nbformat": 4,
 "nbformat_minor": 4
}
