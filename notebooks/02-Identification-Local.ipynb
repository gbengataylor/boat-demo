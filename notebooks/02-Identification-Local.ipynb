{
 "cells": [
  {
   "cell_type": "code",
   "execution_count": 1,
   "id": "c2448f04",
   "metadata": {},
   "outputs": [],
   "source": [
    "from datetime import datetime\n",
    "import os\n",
    "import sys\n",
    "sys.path.insert(0, os.path.abspath('..'))\n",
    "\n",
    "import identify\n",
    "import numpy as np"
   ]
  },
  {
   "cell_type": "code",
   "execution_count": 2,
   "id": "d56fc164",
   "metadata": {},
   "outputs": [
    {
     "data": {
      "text/plain": [
       "(datetime.datetime(2021, 4, 22, 3, 40, 32, 757943),\n",
       " None,\n",
       " {'objects': [{'box': [211.0, 508.0, 307.0, 532.0],\n",
       "    'confidence': 0.8908742070198059,\n",
       "    'class': 'boats',\n",
       "    'id': '0'},\n",
       "   {'box': [1073.0, 113.0, 1147.0, 176.0],\n",
       "    'confidence': 0.8825204968452454,\n",
       "    'class': 'boats',\n",
       "    'id': '1'},\n",
       "   {'box': [67.0, 325.0, 136.0, 405.0],\n",
       "    'confidence': 0.8686448931694031,\n",
       "    'class': 'boats',\n",
       "    'id': '2'},\n",
       "   {'box': [81.0, 601.0, 151.0, 672.0],\n",
       "    'confidence': 0.8586115837097168,\n",
       "    'class': 'boats',\n",
       "    'id': '3'},\n",
       "   {'box': [305.0, 438.0, 390.0, 462.0],\n",
       "    'confidence': 0.8368647694587708,\n",
       "    'class': 'boats',\n",
       "    'id': '4'}],\n",
       "  'tracking': {'next_id': 5, 'missing': {}}})"
      ]
     },
     "execution_count": 2,
     "metadata": {},
     "output_type": "execute_result"
    }
   ],
   "source": [
    "#time0 = pipeline.snap()\n",
    "time1 = (datetime(2021, 4, 22, 3, 40, 31, 994728),\n",
    " None,\n",
    " {'objects': [{'box': [207.0, 509.0, 299.0, 532.0],\n",
    "      'confidence': 0.8941678404808044,\n",
    "      'class': 'boats'},\n",
    "     {'box': [65.0, 326.0, 136.0, 403.0],\n",
    "      'confidence': 0.8731332421302795,\n",
    "      'class': 'boats'},\n",
    "     {'box': [1066.0, 109.0, 1142.0, 171.0],\n",
    "      'confidence': 0.8629531264305115,\n",
    "      'class': 'boats'},\n",
    "     {'box': [82.0, 602.0, 149.0, 671.0],\n",
    "      'confidence': 0.8608279228210449,\n",
    "      'class': 'boats'},\n",
    "     {'box': [298.0, 438.0, 383.0, 461.0],\n",
    "      'confidence': 0.8419623374938965,\n",
    "      'class': 'boats'},\n",
    "     {'box': [242.0, 0.0, 298.0, 19.0],\n",
    "      'confidence': 0.6364468932151794,\n",
    "      'class': 'boats'}]})\n",
    "#time1 = pipeline.snap()\n",
    "time0 = (datetime(2021, 4, 22, 3, 40, 32, 757943),\n",
    " None,\n",
    " {'objects': [{'box': [211.0, 508.0, 307.0, 532.0],\n",
    "      'confidence': 0.8908742070198059,\n",
    "      'class': 'boats'},\n",
    "     {'box': [1073.0, 113.0, 1147.0, 176.0],\n",
    "      'confidence': 0.8825204968452454,\n",
    "      'class': 'boats'},\n",
    "     {'box': [67.0, 325.0, 136.0, 405.0],\n",
    "      'confidence': 0.8686448931694031,\n",
    "      'class': 'boats'},\n",
    "     {'box': [81.0, 601.0, 151.0, 672.0],\n",
    "      'confidence': 0.8586115837097168,\n",
    "      'class': 'boats'},\n",
    "     {'box': [305.0, 438.0, 390.0, 462.0],\n",
    "      'confidence': 0.8368647694587708,\n",
    "      'class': 'boats'}]})\n",
    "\n",
    "time0 = (time0[0], time0[1], identify.centroid_identify(time0[0].timestamp(), time0[2]))\n",
    "time0"
   ]
  },
  {
   "cell_type": "code",
   "execution_count": 3,
   "id": "7a15b1c0",
   "metadata": {},
   "outputs": [
    {
     "data": {
      "text/plain": [
       "(datetime.datetime(2021, 4, 22, 3, 40, 31, 994728),\n",
       " None,\n",
       " {'objects': [{'box': [207.0, 509.0, 299.0, 532.0],\n",
       "    'confidence': 0.8941678404808044,\n",
       "    'class': 'boats',\n",
       "    'id': '0',\n",
       "    'centroid': [253.0, 520.5],\n",
       "    'speed': 7.888732083920779,\n",
       "    'direction': 4.76364169072622},\n",
       "   {'box': [65.0, 326.0, 136.0, 403.0],\n",
       "    'confidence': 0.8731332421302795,\n",
       "    'class': 'boats',\n",
       "    'id': '2',\n",
       "    'centroid': [100.5, 364.5],\n",
       "    'speed': 1.4649007721118281,\n",
       "    'direction': 26.56505117707799},\n",
       "   {'box': [1066.0, 109.0, 1142.0, 171.0],\n",
       "    'confidence': 0.8629531264305115,\n",
       "    'class': 'boats',\n",
       "    'id': '1',\n",
       "    'centroid': [1104.0, 140.0],\n",
       "    'speed': 9.826853120201926,\n",
       "    'direction': 36.86989764584401},\n",
       "   {'box': [82.0, 602.0, 149.0, 671.0],\n",
       "    'confidence': 0.8608279228210449,\n",
       "    'class': 'boats',\n",
       "    'id': '3',\n",
       "    'centroid': [115.5, 636.5],\n",
       "    'speed': 0.6551235413467952,\n",
       "    'direction': 0.0},\n",
       "   {'box': [298.0, 438.0, 383.0, 461.0],\n",
       "    'confidence': 0.8419623374938965,\n",
       "    'class': 'boats',\n",
       "    'id': '4',\n",
       "    'centroid': [340.5, 449.5],\n",
       "    'speed': 9.195097080622526,\n",
       "    'direction': 4.085616779974888},\n",
       "   {'box': [242.0, 0.0, 298.0, 19.0],\n",
       "    'confidence': 0.6364468932151794,\n",
       "    'class': 'boats',\n",
       "    'id': '5',\n",
       "    'centroid': [270.0, 9.5],\n",
       "    'speed': 0.0,\n",
       "    'direction': 0.0}],\n",
       "  'tracking': {'next_id': 6, 'missing': {}}})"
      ]
     },
     "execution_count": 3,
     "metadata": {},
     "output_type": "execute_result"
    }
   ],
   "source": [
    "time1 = (time1[0], time1[1], identify.centroid_identify(time0[0].timestamp(), time0[2], time1[0].timestamp(), time1[2]))\n",
    "time1"
   ]
  },
  {
   "cell_type": "code",
   "execution_count": 4,
   "id": "d5f20135",
   "metadata": {},
   "outputs": [],
   "source": [
    "centroids0 = np.array([((item['box'][2] + item['box'][0])/2, (item['box'][3] + item['box'][1])/2) for item in time0[2].get('objects', [])])\n",
    "centroids1 = np.array([((item['box'][2] + item['box'][0])/2, (item['box'][3] + item['box'][1])/2) for item in time1[2].get('objects', [])])\n",
    "ids0 = [item['id'] for item in time0[2].get('objects', [])]\n",
    "ids1 = [item['id'] for item in time1[2].get('objects', [])]\n",
    "dtime = time1[0].timestamp() - time0[0].timestamp()\n",
    "new2old = [0, 2, 1, 3, 4, 5]"
   ]
  },
  {
   "cell_type": "code",
   "execution_count": 5,
   "id": "e7905236",
   "metadata": {},
   "outputs": [
    {
     "name": "stdout",
     "output_type": "stream",
     "text": [
      "\n",
      "[ 7.8614825  -0.65512354]\n",
      "7.888732083920779\n",
      "4.76364169072622\n",
      "\n",
      "[1.31024708 0.65512354]\n",
      "1.4649007721118281\n",
      "26.56505117707799\n",
      "\n",
      "[7.8614825  5.89611187]\n",
      "9.826853120201926\n",
      "36.86989764584401\n",
      "\n",
      "[ 0.65512354 -0.        ]\n",
      "0.6551235413467952\n",
      "0.0\n",
      "\n",
      "[9.17172958 0.65512354]\n",
      "9.195097080622526\n",
      "4.085616779974888\n",
      "\n",
      "[-0. -0.]\n",
      "0.0\n",
      "0.0\n"
     ]
    }
   ],
   "source": [
    "for idx_new, idx_old in enumerate(new2old):\n",
    "    new_cent = centroids1[idx_new]\n",
    "    try:\n",
    "        old_cent = centroids0[idx_old]\n",
    "    except IndexError:\n",
    "        old_cent = new_cent\n",
    "        \n",
    "    speed_vector = (np.array(new_cent) - np.array(old_cent)) / dtime\n",
    "    speed = np.linalg.norm(speed_vector)\n",
    "    direction = (np.arccos(np.dot([1, 0], speed_vector/speed)) \\\n",
    "                if speed > 0.1 else 0.0) * 180 / np.pi\n",
    "        \n",
    "    print()\n",
    "    print(speed_vector)\n",
    "    print(speed)\n",
    "    print(direction)"
   ]
  },
  {
   "cell_type": "code",
   "execution_count": 7,
   "id": "02c50976",
   "metadata": {},
   "outputs": [
    {
     "data": {
      "text/plain": [
       "(datetime.datetime(2021, 4, 22, 3, 40, 31, 994728),\n",
       " None,\n",
       " {'objects': [{'box': [207.0, 509.0, 299.0, 532.0],\n",
       "    'confidence': 0.8941678404808044,\n",
       "    'class': 'boats',\n",
       "    'id': '0',\n",
       "    'centroid': [253.0, 520.5],\n",
       "    'speed': 7.888732083920779,\n",
       "    'direction': 4.76364169072622},\n",
       "   {'box': [65.0, 326.0, 136.0, 403.0],\n",
       "    'confidence': 0.8731332421302795,\n",
       "    'class': 'boats',\n",
       "    'id': '2',\n",
       "    'centroid': [100.5, 364.5],\n",
       "    'speed': 1.4649007721118281,\n",
       "    'direction': 26.56505117707799},\n",
       "   {'box': [1066.0, 109.0, 1142.0, 171.0],\n",
       "    'confidence': 0.8629531264305115,\n",
       "    'class': 'boats',\n",
       "    'id': '1',\n",
       "    'centroid': [1104.0, 140.0],\n",
       "    'speed': 9.826853120201926,\n",
       "    'direction': 36.86989764584401},\n",
       "   {'box': [82.0, 602.0, 149.0, 671.0],\n",
       "    'confidence': 0.8608279228210449,\n",
       "    'class': 'boats',\n",
       "    'id': '3',\n",
       "    'centroid': [115.5, 636.5],\n",
       "    'speed': 0.6551235413467952,\n",
       "    'direction': 0.0},\n",
       "   {'box': [298.0, 438.0, 383.0, 461.0],\n",
       "    'confidence': 0.8419623374938965,\n",
       "    'class': 'boats',\n",
       "    'id': '4',\n",
       "    'centroid': [340.5, 449.5],\n",
       "    'speed': 9.195097080622526,\n",
       "    'direction': 4.085616779974888},\n",
       "   {'box': [242.0, 0.0, 298.0, 19.0],\n",
       "    'confidence': 0.6364468932151794,\n",
       "    'class': 'boats',\n",
       "    'id': '5',\n",
       "    'centroid': [270.0, 9.5],\n",
       "    'speed': 0.0,\n",
       "    'direction': 0.0}],\n",
       "  'tracking': {'next_id': 6, 'missing': {}}})"
      ]
     },
     "execution_count": 7,
     "metadata": {},
     "output_type": "execute_result"
    }
   ],
   "source": [
    "time1"
   ]
  },
  {
   "cell_type": "code",
   "execution_count": null,
   "id": "d608ac5d",
   "metadata": {},
   "outputs": [],
   "source": []
  }
 ],
 "metadata": {
  "kernelspec": {
   "display_name": "Python 3",
   "language": "python",
   "name": "python3"
  },
  "language_info": {
   "codemirror_mode": {
    "name": "ipython",
    "version": 3
   },
   "file_extension": ".py",
   "mimetype": "text/x-python",
   "name": "python",
   "nbconvert_exporter": "python",
   "pygments_lexer": "ipython3",
   "version": "3.8.3"
  }
 },
 "nbformat": 4,
 "nbformat_minor": 5
}
