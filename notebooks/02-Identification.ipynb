{
 "cells": [
  {
   "cell_type": "code",
   "execution_count": 1,
   "id": "0a08a67f",
   "metadata": {},
   "outputs": [],
   "source": [
    "from datetime import datetime\n",
    "import os\n",
    "import sys\n",
    "sys.path.insert(0, os.path.abspath('..'))\n",
    "\n",
    "import identify"
   ]
  },
  {
   "cell_type": "code",
   "execution_count": 4,
   "id": "49389085",
   "metadata": {},
   "outputs": [
    {
     "data": {
      "text/plain": [
       "(datetime.datetime(2021, 4, 22, 3, 40, 32, 757943),\n",
       " None,\n",
       " {'objects': [{'box': [211.0, 508.0, 307.0, 532.0],\n",
       "    'confidence': 0.8908742070198059,\n",
       "    'class': 'boats',\n",
       "    'id': '0'},\n",
       "   {'box': [1073.0, 113.0, 1147.0, 176.0],\n",
       "    'confidence': 0.8825204968452454,\n",
       "    'class': 'boats',\n",
       "    'id': '1'},\n",
       "   {'box': [67.0, 325.0, 136.0, 405.0],\n",
       "    'confidence': 0.8686448931694031,\n",
       "    'class': 'boats',\n",
       "    'id': '2'},\n",
       "   {'box': [81.0, 601.0, 151.0, 672.0],\n",
       "    'confidence': 0.8586115837097168,\n",
       "    'class': 'boats',\n",
       "    'id': '3'},\n",
       "   {'box': [305.0, 438.0, 390.0, 462.0],\n",
       "    'confidence': 0.8368647694587708,\n",
       "    'class': 'boats',\n",
       "    'id': '4'}],\n",
       "  'tracking': {'next_id': 5, 'missing': {}}})"
      ]
     },
     "execution_count": 4,
     "metadata": {},
     "output_type": "execute_result"
    }
   ],
   "source": [
    "#time0 = pipeline.snap()\n",
    "time1 = (datetime(2021, 4, 22, 3, 40, 31, 994728),\n",
    " None,\n",
    " {'objects': [{'box': [207.0, 509.0, 299.0, 532.0],\n",
    "      'confidence': 0.8941678404808044,\n",
    "      'class': 'boats'},\n",
    "     {'box': [65.0, 326.0, 136.0, 403.0],\n",
    "      'confidence': 0.8731332421302795,\n",
    "      'class': 'boats'},\n",
    "     {'box': [1066.0, 109.0, 1142.0, 171.0],\n",
    "      'confidence': 0.8629531264305115,\n",
    "      'class': 'boats'},\n",
    "     {'box': [82.0, 602.0, 149.0, 671.0],\n",
    "      'confidence': 0.8608279228210449,\n",
    "      'class': 'boats'},\n",
    "     {'box': [298.0, 438.0, 383.0, 461.0],\n",
    "      'confidence': 0.8419623374938965,\n",
    "      'class': 'boats'},\n",
    "     {'box': [242.0, 0.0, 298.0, 19.0],\n",
    "      'confidence': 0.6364468932151794,\n",
    "      'class': 'boats'}]})\n",
    "#time1 = pipeline.snap()\n",
    "time0 = (datetime(2021, 4, 22, 3, 40, 32, 757943),\n",
    " None,\n",
    " {'objects': [{'box': [211.0, 508.0, 307.0, 532.0],\n",
    "      'confidence': 0.8908742070198059,\n",
    "      'class': 'boats'},\n",
    "     {'box': [1073.0, 113.0, 1147.0, 176.0],\n",
    "      'confidence': 0.8825204968452454,\n",
    "      'class': 'boats'},\n",
    "     {'box': [67.0, 325.0, 136.0, 405.0],\n",
    "      'confidence': 0.8686448931694031,\n",
    "      'class': 'boats'},\n",
    "     {'box': [81.0, 601.0, 151.0, 672.0],\n",
    "      'confidence': 0.8586115837097168,\n",
    "      'class': 'boats'},\n",
    "     {'box': [305.0, 438.0, 390.0, 462.0],\n",
    "      'confidence': 0.8368647694587708,\n",
    "      'class': 'boats'}]})\n",
    "\n",
    "time0 = (time0[0], time0[1], identify.centroid_identify(time0[2]))\n",
    "time0"
   ]
  },
  {
   "cell_type": "code",
   "execution_count": 5,
   "id": "e71e9bc7",
   "metadata": {},
   "outputs": [
    {
     "data": {
      "text/plain": [
       "(datetime.datetime(2021, 4, 22, 3, 40, 31, 994728),\n",
       " None,\n",
       " {'objects': [{'box': [207.0, 509.0, 299.0, 532.0],\n",
       "    'confidence': 0.8941678404808044,\n",
       "    'class': 'boats',\n",
       "    'id': '0'},\n",
       "   {'box': [65.0, 326.0, 136.0, 403.0],\n",
       "    'confidence': 0.8731332421302795,\n",
       "    'class': 'boats',\n",
       "    'id': '2'},\n",
       "   {'box': [1066.0, 109.0, 1142.0, 171.0],\n",
       "    'confidence': 0.8629531264305115,\n",
       "    'class': 'boats',\n",
       "    'id': '1'},\n",
       "   {'box': [82.0, 602.0, 149.0, 671.0],\n",
       "    'confidence': 0.8608279228210449,\n",
       "    'class': 'boats',\n",
       "    'id': '3'},\n",
       "   {'box': [298.0, 438.0, 383.0, 461.0],\n",
       "    'confidence': 0.8419623374938965,\n",
       "    'class': 'boats',\n",
       "    'id': '4'},\n",
       "   {'box': [242.0, 0.0, 298.0, 19.0],\n",
       "    'confidence': 0.6364468932151794,\n",
       "    'class': 'boats',\n",
       "    'id': '5'}],\n",
       "  'tracking': {'next_id': 6, 'missing': {}}})"
      ]
     },
     "execution_count": 5,
     "metadata": {},
     "output_type": "execute_result"
    }
   ],
   "source": [
    "time1 = (time1[0], time1[1], identify.centroid_identify(time0[2], time1[2]))\n",
    "time1"
   ]
  }
 ],
 "metadata": {
  "kernelspec": {
   "display_name": "Python 3",
   "language": "python",
   "name": "python3"
  },
  "language_info": {
   "codemirror_mode": {
    "name": "ipython",
    "version": 3
   },
   "file_extension": ".py",
   "mimetype": "text/x-python",
   "name": "python",
   "nbconvert_exporter": "python",
   "pygments_lexer": "ipython3",
   "version": "3.8.3"
  }
 },
 "nbformat": 4,
 "nbformat_minor": 5
}
