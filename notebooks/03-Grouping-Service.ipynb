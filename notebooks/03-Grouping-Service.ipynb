{
 "cells": [
  {
   "cell_type": "code",
   "execution_count": 7,
   "id": "5c04ca3b",
   "metadata": {},
   "outputs": [],
   "source": [
    "from datetime import datetime\n",
    "import os\n",
    "import sys\n",
    "sys.path.insert(0, os.path.abspath('..'))\n",
    "\n",
    "import scipy.spatial\n",
    "import numpy as np\n",
    "import requests\n",
    "\n",
    "GROUP_URL = 'http://boat-group:8080/v1/group'"
   ]
  },
  {
   "cell_type": "code",
   "execution_count": 8,
   "id": "4c68c22c",
   "metadata": {},
   "outputs": [],
   "source": [
    "#time0 = pipeline.snap()\n",
    "time0 = {'objects': [{'box': [521.0, 417.0, 609.0, 442.0],\n",
    "    'confidence': 0.8895850777626038,\n",
    "    'class': 'boats',\n",
    "    'id': '4',\n",
    "    'centroid': [565.0, 429.5],\n",
    "    'speed': 3.5681668404020375,\n",
    "    'direction': 0.0},\n",
    "   {'box': [382.0, 500.0, 469.0, 527.0],\n",
    "    'confidence': 0.8717858195304871,\n",
    "    'class': 'boats',\n",
    "    'id': '0',\n",
    "    'centroid': [425.5, 513.5],\n",
    "    'speed': 9.589160252084428,\n",
    "    'direction': 7.125016348901757},\n",
    "   {'box': [98.0, 354.0, 184.0, 417.0],\n",
    "    'confidence': 0.8691210150718689,\n",
    "    'class': 'boats',\n",
    "    'id': '2',\n",
    "    'centroid': [141.0, 385.5],\n",
    "    'speed': 6.935269733055477,\n",
    "    'direction': 30.96375653207352},\n",
    "   {'box': [70.0, 601.0, 136.0, 678.0],\n",
    "    'confidence': 0.8541313409805298,\n",
    "    'class': 'boats',\n",
    "    'id': '3',\n",
    "    'centroid': [103.0, 639.5],\n",
    "    'speed': 1.1893889468006793,\n",
    "    'direction': 90.0},\n",
    "   {'box': [1234.0, 269.0, 1280.0, 331.0],\n",
    "    'confidence': 0.6892146468162537,\n",
    "    'class': 'boats',\n",
    "    'id': '1',\n",
    "    'centroid': [1257.0, 300.0],\n",
    "    'speed': 1.6820499795021724,\n",
    "    'direction': 45.00000000000001}],\n",
    "  'tracking': {'next_id': 5, 'missing': {}}}"
   ]
  },
  {
   "cell_type": "code",
   "execution_count": 10,
   "id": "18cf1460",
   "metadata": {},
   "outputs": [
    {
     "data": {
      "text/plain": [
       "{'objects': [{'box': [521.0, 417.0, 609.0, 442.0],\n",
       "   'confidence': 0.8895850777626038,\n",
       "   'class': 'boats',\n",
       "   'id': '4',\n",
       "   'centroid': [565.0, 429.5],\n",
       "   'speed': 3.5681668404020375,\n",
       "   'direction': 0.0,\n",
       "   'cluster': 0},\n",
       "  {'box': [382.0, 500.0, 469.0, 527.0],\n",
       "   'confidence': 0.8717858195304871,\n",
       "   'class': 'boats',\n",
       "   'id': '0',\n",
       "   'centroid': [425.5, 513.5],\n",
       "   'speed': 9.589160252084428,\n",
       "   'direction': 7.125016348901757,\n",
       "   'cluster': 0},\n",
       "  {'box': [98.0, 354.0, 184.0, 417.0],\n",
       "   'confidence': 0.8691210150718689,\n",
       "   'class': 'boats',\n",
       "   'id': '2',\n",
       "   'centroid': [141.0, 385.5],\n",
       "   'speed': 6.935269733055477,\n",
       "   'direction': 30.96375653207352,\n",
       "   'cluster': 1},\n",
       "  {'box': [70.0, 601.0, 136.0, 678.0],\n",
       "   'confidence': 0.8541313409805298,\n",
       "   'class': 'boats',\n",
       "   'id': '3',\n",
       "   'centroid': [103.0, 639.5],\n",
       "   'speed': 1.1893889468006793,\n",
       "   'direction': 90.0,\n",
       "   'cluster': 1},\n",
       "  {'box': [1234.0, 269.0, 1280.0, 331.0],\n",
       "   'confidence': 0.6892146468162537,\n",
       "   'class': 'boats',\n",
       "   'id': '1',\n",
       "   'centroid': [1257.0, 300.0],\n",
       "   'speed': 1.6820499795021724,\n",
       "   'direction': 45.00000000000001,\n",
       "   'cluster': 2}],\n",
       " 'tracking': {'next_id': 5, 'missing': {}},\n",
       " 'clusters': [[495.25, 471.5], [122.0, 512.5], [1257.0, 300.0]]}"
      ]
     },
     "execution_count": 10,
     "metadata": {},
     "output_type": "execute_result"
    }
   ],
   "source": [
    "requests.post(GROUP_URL, json={'last': {}, \"last_time\": 123, \"now_time\": 123, \"now\": time0}).json()"
   ]
  },
  {
   "cell_type": "code",
   "execution_count": null,
   "id": "f3b76062",
   "metadata": {},
   "outputs": [],
   "source": []
  }
 ],
 "metadata": {
  "kernelspec": {
   "display_name": "Python 3",
   "language": "python",
   "name": "python3"
  },
  "language_info": {
   "codemirror_mode": {
    "name": "ipython",
    "version": 3
   },
   "file_extension": ".py",
   "mimetype": "text/x-python",
   "name": "python",
   "nbconvert_exporter": "python",
   "pygments_lexer": "ipython3",
   "version": "3.8.3"
  }
 },
 "nbformat": 4,
 "nbformat_minor": 5
}
