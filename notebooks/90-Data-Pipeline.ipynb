{
 "cells": [
  {
   "cell_type": "markdown",
   "metadata": {},
   "source": [
    "# Data Pipelines"
   ]
  },
  {
   "cell_type": "markdown",
   "metadata": {},
   "source": [
    "## Pipeline Code"
   ]
  },
  {
   "cell_type": "code",
   "execution_count": 1,
   "metadata": {
    "jupyter": {
     "source_hidden": true
    },
    "tags": []
   },
   "outputs": [],
   "source": [
    "import os\n",
    "import sys\n",
    "import time\n",
    "import io\n",
    "import threading\n",
    "from datetime import datetime\n",
    "import random\n",
    "sys.path.insert(0, os.path.abspath('..'))\n",
    "\n",
    "import cv2\n",
    "import requests\n",
    "from  matplotlib import pyplot as plt\n",
    "from IPython.display import clear_output\n",
    "from ipywidgets import widgets\n",
    "from PIL import Image, ImageDraw, ImageFont\n",
    "from IPython.core.display import display\n",
    "import numpy as np\n",
    "import scipy.spatial\n",
    "\n",
    "\n",
    "STREAM_URL = 'http://10.10.112.29:8080/'\n",
    "DETECTION_URL = 'http://boat-detect:8080/v1/detect'\n",
    "IDENTIFY_URL = 'http://boat-identify:8080/v1/identify'\n",
    "GROUPING_URL = 'http://boat-group:8080/v1/group'\n",
    "\n",
    "GROUP_COLORS = ['red', 'green', 'white', 'cyan', 'blue']\n",
    "\n",
    "ZONES = [[\"top left\", \"left\", \"bottom left\"], [\"top\", \"center\", \"bottom\"], [\"top right\", \"right\", \"bottom right\"]]\n",
    "NUMBERS = [\"zero\", \"one\", \"two\", \"three\", \"four\", \"five\", \"six\", \"seven\", \"eight\", \"nine\", \"ten\"]\n",
    "DIRECTIONS = [\"east\", \"east north east\", \"north east\", \"north north east\", \"north\", \"north north west\", \"north west\", \"west nort west\", \"west\", \"west south west\", \"south west\", \"south south west\", \"south\", \"south south east\", \"south east\", \"east south east\"]\n",
    "#DIRECTIONS = [\"east\", \"north east\", \"north\", \"north west\", \"west\", \"south west\", \"south\", \"south east\"]\n",
    "STATIONARY_THRESHOLD = 4"
   ]
  },
  {
   "cell_type": "markdown",
   "metadata": {},
   "source": [
    "### Image Jupyter Widget"
   ]
  },
  {
   "cell_type": "code",
   "execution_count": 2,
   "metadata": {
    "jupyter": {
     "source_hidden": true
    },
    "tags": []
   },
   "outputs": [],
   "source": [
    "#### IMAGE WIDGET\n",
    "def _annotate_image(img, db, show_boxes=True, show_ids=True, show_missing=True, show_groups=True):\n",
    "    canvas = ImageDraw.Draw(img)\n",
    "    \n",
    "    for item in db.get('objects', []):\n",
    "        if show_groups and 'cluster' in item and 'box' in item:\n",
    "            canvas.rectangle(item['box'], outline=GROUP_COLORS[item['cluster']], width=3)\n",
    "        elif show_boxes and 'box' in item:\n",
    "            canvas.rectangle(item['box'], outline='red', width=3)\n",
    "        if show_ids and 'id' in item and 'centroid' in item:\n",
    "            font = ImageFont.truetype('Overpass-Regular.ttf', 24)\n",
    "            canvas.text(item['centroid'], str(item['id']),'red', font=font,\n",
    "                        stroke_width=2, stroke_fill='white')\n",
    "            \n",
    "    if show_missing and 'missing' in db.get('tracking', {}):\n",
    "        for item in db['tracking']['missing'].values():\n",
    "            font = ImageFont.truetype('Overpass-Regular.ttf', 24)\n",
    "            canvas.text(item['centroid'],item['id'],'red', font=font,\n",
    "                        stroke_width=2, stroke_fill='white')\n",
    "        \n",
    "    return img\n",
    "                \n",
    "\n",
    "def pil2pngs(img):\n",
    "    output = io.BytesIO()\n",
    "    img.save(output, format='PNG')\n",
    "    output.seek(0)\n",
    "    img_data = output.read()\n",
    "    output.close()\n",
    "    \n",
    "    return img_data\n",
    "\n",
    "\n",
    "class PipelineWidget(widgets.Image):\n",
    "    \n",
    "    def __init__(self, pipeline, show_boxes=True, show_ids=True, show_missing=True, show_groups=True):\n",
    "        \n",
    "        self.frame = pipeline[-1]\n",
    "        self.show_boxes = show_boxes\n",
    "        self.show_ids = show_ids\n",
    "        self.show_missing = show_missing\n",
    "        self.show_groups = show_groups\n",
    "        self.stop = False\n",
    "        \n",
    "        timestamp, img, meta = self.frame.snap()\n",
    "        img = _annotate_image(img, meta, self.show_boxes, self.show_ids, self.show_missing, self.show_groups)\n",
    "        super().__init__(value=pil2pngs(img),format='png')\n",
    "        threading.Thread(target=self._loop).start()\n",
    "        \n",
    "    \n",
    "    def draw(self):\n",
    "        timestamp, img, meta = self.frame.snap()\n",
    "        img = _annotate_image(img, meta, self.show_boxes, self.show_ids, self.show_missing, self.show_groups)\n",
    "        self.value = pil2pngs(img)\n",
    "\n",
    "    def _loop(self):\n",
    "        self.stop = False\n",
    "        while not self.stop:\n",
    "            time.sleep(1/24)\n",
    "            self.draw()\n",
    "\n",
    "\n",
    "class PipelineWidgetWithControls(widgets.GridspecLayout):\n",
    "        def __init__(self, pipeline):\n",
    "            super().__init__(2, 4, width='1300px', height='770px')\n",
    "            \n",
    "            self[0,0] = self._objects = widgets.Checkbox(value=False, description='Show Objects (Detection)', disabled=False, indent=False)\n",
    "            self[0,1] = self._ids = widgets.Checkbox(value=False, description='Show IDs (Identification)', disabled=False, indent=False)\n",
    "            self[0,2] = self._missing = widgets.Checkbox(value=False, description='Show Missing(Identification)', disabled=False, indent=False)\n",
    "            self[0,3] = self._groups = widgets.Checkbox(value=False, description='Show Groups(Clustering)', disabled=False, indent=False)\n",
    "            self[1,:] = self._pipeline = PipelineWidget(pipeline, False, False, False, False)\n",
    "            \n",
    "            self._objects.observe(self.toggle_objects)\n",
    "            self._ids.observe(self.toggle_ids)\n",
    "            self._missing.observe(self.toggle_missing)\n",
    "            self._groups.observe(self.toggle_groups)\n",
    "        \n",
    "        def toggle_objects(self, b):\n",
    "            self._pipeline.show_boxes = self._objects.value\n",
    "            \n",
    "        def toggle_ids(self, b):\n",
    "            self._pipeline.show_ids= self._ids.value\n",
    "            \n",
    "        def toggle_missing(self, b):\n",
    "            self._pipeline.show_missing = self._missing.value\n",
    "            \n",
    "        def toggle_groups(self, b):\n",
    "            self._pipeline.show_groups = self._groups.value"
   ]
  },
  {
   "cell_type": "markdown",
   "metadata": {},
   "source": [
    "### Pipeline Objects"
   ]
  },
  {
   "cell_type": "code",
   "execution_count": 3,
   "metadata": {
    "jupyter": {
     "source_hidden": true
    },
    "tags": []
   },
   "outputs": [],
   "source": [
    "# CAMERA READER\n",
    "class RemoteCameraSource(object):\n",
    "    \n",
    "    def __init__(self, url):\n",
    "        self._url = url\n",
    "        self._thread = None\n",
    "        self._stream = None\n",
    "        self._connecting = False\n",
    "        self._last_frame = None\n",
    "        self._last_frame_time = None\n",
    "        self._next = None\n",
    "        \n",
    "    def __del__(self):\n",
    "        self.stop_stream()\n",
    "        \n",
    "    def snap(self):\n",
    "        # returns (timestamp, image, metadata)\n",
    "        if self._last_frame is not None:\n",
    "            return (\n",
    "                self._last_frame_time,\n",
    "                Image.fromarray(\n",
    "                    cv2.cvtColor(self._last_frame, cv2.COLOR_BGR2RGB), \n",
    "                    \"RGB\"),\n",
    "                {}\n",
    "            )\n",
    "        else:\n",
    "            return (None, None, {})\n",
    "    \n",
    "    def reconnect(self):\n",
    "        while self._connecting:\n",
    "            time.sleep(1)\n",
    "                \n",
    "        self._connecting = True\n",
    "        \n",
    "        connected = False\n",
    "        while not connected:\n",
    "            self._stream = cv2.VideoCapture(self._url)\n",
    "            connected = self._stream.isOpened()\n",
    "            if connected:\n",
    "                self._connecting = False\n",
    "                return\n",
    "            \n",
    "            print('Could not connect to {}'.format(self._url))\n",
    "            print('Retrying in 1 minute')\n",
    "            \n",
    "            time.sleep(60)\n",
    "            \n",
    "    def start_stream(self):\n",
    "        if self._thread and self._thread.is_alive():\n",
    "            print('Thread already running')\n",
    "            return\n",
    "        \n",
    "        self.reconnect()\n",
    "        \n",
    "        self._thread = threading.Thread(target=self._watch, args=())\n",
    "        self._thread.start()\n",
    "        \n",
    "    def stop_stream(self):\n",
    "        self._stream.release()\n",
    "        \n",
    "    def _watch(self):\n",
    "        fail_counter = 0\n",
    "        while self._stream.isOpened():\n",
    "            frame_time = datetime.now()\n",
    "            ret, frame = self._stream.read()\n",
    "            \n",
    "            if not ret:\n",
    "                fail_counter += 1\n",
    "            else:\n",
    "                fail_counter = 0\n",
    "                self._last_frame_time = frame_time\n",
    "                self._last_frame = frame\n",
    "                if self._next:\n",
    "                    self._run_next()\n",
    "            \n",
    "            time.sleep(1/60)\n",
    "                \n",
    "            if fail_counter > 50:\n",
    "                self.reconnect()\n",
    "                fail_counter = 0        \n",
    "                \n",
    "        self._stream.release()\n",
    "        \n",
    "    def _run_next(self):\n",
    "        threading.Thread(target=self._next).start()\n",
    "        \n",
    "    def register(self, next_step):\n",
    "        self._next = next_step"
   ]
  },
  {
   "cell_type": "code",
   "execution_count": 4,
   "metadata": {
    "jupyter": {
     "source_hidden": true
    },
    "tags": []
   },
   "outputs": [],
   "source": [
    "# API CALLERS\n",
    "class ModelFilter(object):\n",
    "    def __init__(self, source, url, send_raw_image=True):\n",
    "        self._source = source\n",
    "        self._data = {}\n",
    "        self._url = url\n",
    "        self._last_snap = self._source.snap()\n",
    "        self._running = False\n",
    "        self._ready = False\n",
    "        self._next = None\n",
    "        self._last_response = None\n",
    "        self._sendimage = send_raw_image\n",
    "        \n",
    "        self._source.register(self.execute)\n",
    "        \n",
    "    @property\n",
    "    def ready(self):\n",
    "        return self._ready\n",
    "        \n",
    "    def snap(self):\n",
    "        return self._last_snap\n",
    "    \n",
    "    @property\n",
    "    def response(self):\n",
    "        return self._last_response\n",
    "    \n",
    "    def execute(self):\n",
    "        if not self._running:\n",
    "            self._running = True\n",
    "            timestamp, img, metadata = self._source.snap()\n",
    "            now_time = None\n",
    "            if timestamp:\n",
    "                now_time = timestamp.timestamp()\n",
    "            if self._sendimage:\n",
    "                response = requests.post(\n",
    "                    self._url, \n",
    "                    files={\"image\": pil2pngs(img)})\n",
    "            else:\n",
    "                last_time = None\n",
    "                if self._last_snap[0]:\n",
    "                    last_time = self._last_snap[0].timestamp()\n",
    "                last_meta = self._last_snap[2] or metadata\n",
    "                response = requests.post(\n",
    "                    self._url, \n",
    "                    json={'last': last_meta,\n",
    "                          'last_time': last_time,\n",
    "                          'now': metadata,\n",
    "                          'now_time': now_time})\n",
    "            \n",
    "            self._last_response = response\n",
    "            try:\n",
    "                meta = response.json()\n",
    "            except json.decoder.JSONDecodeError:\n",
    "                meta = {}\n",
    "            \n",
    "            self._last_snap = (timestamp, img, meta)\n",
    "            self._running = False\n",
    "            \n",
    "            if self._next:\n",
    "                self._run_next()\n",
    "        \n",
    "        self._ready = True\n",
    "        \n",
    "    def register(self, next_step):\n",
    "        self._next = next_step\n",
    "        \n",
    "    def _run_next(self):\n",
    "        threading.Thread(target=self._next).start()"
   ]
  },
  {
   "cell_type": "code",
   "execution_count": 5,
   "metadata": {
    "jupyter": {
     "source_hidden": true
    },
    "tags": []
   },
   "outputs": [],
   "source": [
    "# Text Generator\n",
    "def _deg2dir(deg):\n",
    "    ncats = len(DIRECTIONS)\n",
    "    idx = int((deg + (360 / ncats / 2)) / (360 / ncats))\n",
    "    return DIRECTIONS[idx % ncats]\n",
    "    \n",
    "\n",
    "def results2text(image, meta):\n",
    "    # to text\n",
    "    passage = []\n",
    "    zone_width = image.size[0] / 3.\n",
    "    zone_height = image.size[1] / 3.\n",
    "\n",
    "    # total count\n",
    "    nboats = len(meta.get('objects', []))\n",
    "    nclusters = len(meta.get('clusters', []))\n",
    "    if nclusters == nboats:\n",
    "        passage.append('There are {} boats.'.format(NUMBERS[nboats]))\n",
    "    else:\n",
    "        passage.append('There are {} boats in {} groups.'.format(NUMBERS[nboats], NUMBERS[nclusters]))\n",
    "    passage.append('')\n",
    "\n",
    "    for cluster in range(nclusters):\n",
    "        # clusters\n",
    "        cluster_cent = meta['clusters'][cluster]\n",
    "        cluster_zone = ZONES[int(cluster_cent[0]/zone_width)][int(cluster_cent[1]/zone_height)]\n",
    "        cluster_ships = [item for item in meta['objects'] if item['cluster']==cluster]\n",
    "        ncluster_ships = len(cluster_ships)\n",
    "        article = ' is' if ncluster_ships == 1 else 's are'\n",
    "\n",
    "        passage.append('{} boat{} at the {}.'.format(NUMBERS[ncluster_ships].capitalize(), article, cluster_zone))\n",
    "\n",
    "        # stationary\n",
    "        stationary_ships = [item for item in cluster_ships if item['speed'] < STATIONARY_THRESHOLD]\n",
    "        if stationary_ships:\n",
    "            nstationary_ships = len(stationary_ships)\n",
    "            if ncluster_ships == 1:\n",
    "                count_str = \"It is stationary.\"\n",
    "            elif ncluster_ships == nstationary_ships:\n",
    "                count_str = \"They are all stationary.\"\n",
    "            else:\n",
    "                count_str = \"One of them is stationary.\" if nstationary_ships == 1 else \"{} of them stationary.\".format(NUMBERS[nstationary_ships].capitalize())\n",
    "            passage.append(count_str)\n",
    "\n",
    "        # motion - direction groups\n",
    "        moving_ships = [item for item in cluster_ships if item['speed'] >= STATIONARY_THRESHOLD]\n",
    "        ships_by_dir = {}\n",
    "        if moving_ships:\n",
    "            for ship in moving_ships:\n",
    "                direction = _deg2dir(ship['direction'])\n",
    "                ships_by_dir.setdefault(direction, []).append(ship)\n",
    "            if ncluster_ships == 1:\n",
    "                count_str = \"Is is travelling {}.\".format(direction)\n",
    "                passage.append(count_str)\n",
    "            else:\n",
    "                for key, val in ships_by_dir.items():\n",
    "                    article = 'is' if len(val) == 1 else 'are'\n",
    "                    count_str = \"{} {} travelling {}.\".format(NUMBERS[len(val)].capitalize(), article, key)\n",
    "                    passage.append(count_str)\n",
    "\n",
    "        passage.append('')\n",
    "\n",
    "    # done\n",
    "    output = ''\n",
    "    for line in passage:\n",
    "        if line:\n",
    "            output += line + ' '\n",
    "        else:\n",
    "            output += '\\n'\n",
    "    output += '\\n\\n'\n",
    "    return output"
   ]
  },
  {
   "cell_type": "markdown",
   "metadata": {},
   "source": [
    "## GUI Code"
   ]
  },
  {
   "cell_type": "code",
   "execution_count": 6,
   "metadata": {},
   "outputs": [],
   "source": [
    "# PIPELINE\n",
    "pipeline = []\n",
    "# READ FROM CAMERA\n",
    "pipeline.append(RemoteCameraSource(STREAM_URL))  \n",
    "# RUN OBJECT DETECTION MODEL\n",
    "pipeline.append(ModelFilter(pipeline[-1], DETECTION_URL))  \n",
    "# RUN OBJECT IDENTIFICATION ALGORITHM\n",
    "pipeline.append(ModelFilter(pipeline[-1], IDENTIFY_URL, False))  \n",
    "# RUN OBJECT GROUPING ALGORITHM\n",
    "pipeline.append(ModelFilter(pipeline[-1], GROUPING_URL, False))  \n",
    "pipeline[0].start_stream()\n",
    "\n",
    "# wait for first frame to propogate through the pipeline\n",
    "while not pipeline[-1].ready:\n",
    "    time.sleep(1)"
   ]
  },
  {
   "cell_type": "code",
   "execution_count": 7,
   "metadata": {
    "jupyter": {
     "source_hidden": true
    },
    "tags": []
   },
   "outputs": [
    {
     "data": {
      "application/vnd.jupyter.widget-view+json": {
       "model_id": "57e4e45008b748bc88364dab3500f95a",
       "version_major": 2,
       "version_minor": 0
      },
      "text/plain": [
       "PipelineWidgetWithControls(children=(Checkbox(value=False, description='Show Objects (Detection)', indent=Fals…"
      ]
     },
     "metadata": {},
     "output_type": "display_data"
    }
   ],
   "source": [
    "a = PipelineWidgetWithControls(pipeline)\n",
    "a"
   ]
  },
  {
   "cell_type": "code",
   "execution_count": 9,
   "metadata": {
    "jupyter": {
     "source_hidden": true
    },
    "tags": []
   },
   "outputs": [
    {
     "data": {
      "application/vnd.jupyter.widget-view+json": {
       "model_id": "306ce14893d7421e8a038ae3fd97cd05",
       "version_major": 2,
       "version_minor": 0
      },
      "text/plain": [
       "Textarea(value='There are four boats. \\nOne boat is at the right. Is is travelling east. \\nOne boat is at the …"
      ]
     },
     "metadata": {},
     "output_type": "display_data"
    }
   ],
   "source": [
    "text = widgets.Textarea(areavalue='ASCII', disabled=True, layout=widgets.Layout(width=\"auto\"), rows=10)\n",
    "\n",
    "def updater():\n",
    "    output_last = ''\n",
    "    while True:\n",
    "        timestamp, image, meta = pipeline[-1].snap()\n",
    "        output = results2text(image, meta)\n",
    "        if output != output_last:\n",
    "            text.value = output\n",
    "        time.sleep(10)\n",
    "\n",
    "thread = threading.Thread(target=updater)\n",
    "thread.start()\n",
    "text\n"
   ]
  },
  {
   "cell_type": "code",
   "execution_count": null,
   "metadata": {},
   "outputs": [],
   "source": []
  }
 ],
 "metadata": {
  "kernelspec": {
   "display_name": "Python 3",
   "language": "python",
   "name": "python3"
  },
  "language_info": {
   "codemirror_mode": {
    "name": "ipython",
    "version": 3
   },
   "file_extension": ".py",
   "mimetype": "text/x-python",
   "name": "python",
   "nbconvert_exporter": "python",
   "pygments_lexer": "ipython3",
   "version": "3.8.3"
  }
 },
 "nbformat": 4,
 "nbformat_minor": 4
}
