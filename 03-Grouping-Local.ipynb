{
 "cells": [
  {
   "cell_type": "code",
   "execution_count": 1,
   "id": "f5a056f7",
   "metadata": {},
   "outputs": [
    {
     "name": "stdout",
     "output_type": "stream",
     "text": [
      "Requirement already satisfied: sklearn in /opt/app-root/lib/python3.8/site-packages (0.0)\n",
      "Requirement already satisfied: scikit-learn in /opt/app-root/lib/python3.8/site-packages (from sklearn) (0.24.1)\n",
      "Requirement already satisfied: joblib>=0.11 in /opt/app-root/lib/python3.8/site-packages (from scikit-learn->sklearn) (1.0.1)\n",
      "Requirement already satisfied: threadpoolctl>=2.0.0 in /opt/app-root/lib/python3.8/site-packages (from scikit-learn->sklearn) (2.1.0)\n",
      "Requirement already satisfied: scipy>=0.19.1 in /opt/app-root/lib/python3.8/site-packages (from scikit-learn->sklearn) (1.6.2)\n",
      "Requirement already satisfied: numpy>=1.13.3 in /opt/app-root/lib/python3.8/site-packages (from scikit-learn->sklearn) (1.20.2)\n",
      "\u001b[33mWARNING: You are using pip version 20.3.3; however, version 21.1 is available.\n",
      "You should consider upgrading via the '/opt/app-root/bin/python3.8 -m pip install --upgrade pip' command.\u001b[0m\n",
      "Note: you may need to restart the kernel to use updated packages.\n"
     ]
    }
   ],
   "source": [
    "%pip install sklearn"
   ]
  },
  {
   "cell_type": "code",
   "execution_count": 2,
   "id": "bda41527",
   "metadata": {},
   "outputs": [],
   "source": [
    "from datetime import datetime\n",
    "import os\n",
    "import sys\n",
    "sys.path.insert(0, os.path.abspath('..'))\n",
    "\n",
    "import identify\n",
    "import group\n",
    "\n",
    "import scipy.spatial\n",
    "import numpy as np\n",
    "import sklearn.cluster"
   ]
  },
  {
   "cell_type": "code",
   "execution_count": 3,
   "id": "2c35a2e2",
   "metadata": {},
   "outputs": [],
   "source": [
    "#time0 = pipeline.snap()\n",
    "time0 = {'objects': [{'box': [521.0, 417.0, 609.0, 442.0],\n",
    "    'confidence': 0.8895850777626038,\n",
    "    'class': 'boats',\n",
    "    'id': '4',\n",
    "    'centroid': [565.0, 429.5],\n",
    "    'speed': 3.5681668404020375,\n",
    "    'direction': 0.0},\n",
    "   {'box': [382.0, 500.0, 469.0, 527.0],\n",
    "    'confidence': 0.8717858195304871,\n",
    "    'class': 'boats',\n",
    "    'id': '0',\n",
    "    'centroid': [425.5, 513.5],\n",
    "    'speed': 9.589160252084428,\n",
    "    'direction': 7.125016348901757},\n",
    "   {'box': [98.0, 354.0, 184.0, 417.0],\n",
    "    'confidence': 0.8691210150718689,\n",
    "    'class': 'boats',\n",
    "    'id': '2',\n",
    "    'centroid': [141.0, 385.5],\n",
    "    'speed': 6.935269733055477,\n",
    "    'direction': 30.96375653207352},\n",
    "   {'box': [70.0, 601.0, 136.0, 678.0],\n",
    "    'confidence': 0.8541313409805298,\n",
    "    'class': 'boats',\n",
    "    'id': '3',\n",
    "    'centroid': [103.0, 639.5],\n",
    "    'speed': 1.1893889468006793,\n",
    "    'direction': 90.0},\n",
    "   {'box': [1234.0, 269.0, 1280.0, 331.0],\n",
    "    'confidence': 0.6892146468162537,\n",
    "    'class': 'boats',\n",
    "    'id': '1',\n",
    "    'centroid': [1257.0, 300.0],\n",
    "    'speed': 1.6820499795021724,\n",
    "    'direction': 45.00000000000001}],\n",
    "  'tracking': {'next_id': 5, 'missing': {}}}"
   ]
  },
  {
   "cell_type": "code",
   "execution_count": 4,
   "id": "42cf3946",
   "metadata": {},
   "outputs": [
    {
     "data": {
      "text/plain": [
       "{'objects': [{'box': [521.0, 417.0, 609.0, 442.0],\n",
       "   'confidence': 0.8895850777626038,\n",
       "   'class': 'boats',\n",
       "   'id': '4',\n",
       "   'centroid': [565.0, 429.5],\n",
       "   'speed': 3.5681668404020375,\n",
       "   'direction': 0.0,\n",
       "   'cluster': 0},\n",
       "  {'box': [382.0, 500.0, 469.0, 527.0],\n",
       "   'confidence': 0.8717858195304871,\n",
       "   'class': 'boats',\n",
       "   'id': '0',\n",
       "   'centroid': [425.5, 513.5],\n",
       "   'speed': 9.589160252084428,\n",
       "   'direction': 7.125016348901757,\n",
       "   'cluster': 0},\n",
       "  {'box': [98.0, 354.0, 184.0, 417.0],\n",
       "   'confidence': 0.8691210150718689,\n",
       "   'class': 'boats',\n",
       "   'id': '2',\n",
       "   'centroid': [141.0, 385.5],\n",
       "   'speed': 6.935269733055477,\n",
       "   'direction': 30.96375653207352,\n",
       "   'cluster': 1},\n",
       "  {'box': [70.0, 601.0, 136.0, 678.0],\n",
       "   'confidence': 0.8541313409805298,\n",
       "   'class': 'boats',\n",
       "   'id': '3',\n",
       "   'centroid': [103.0, 639.5],\n",
       "   'speed': 1.1893889468006793,\n",
       "   'direction': 90.0,\n",
       "   'cluster': 1},\n",
       "  {'box': [1234.0, 269.0, 1280.0, 331.0],\n",
       "   'confidence': 0.6892146468162537,\n",
       "   'class': 'boats',\n",
       "   'id': '1',\n",
       "   'centroid': [1257.0, 300.0],\n",
       "   'speed': 1.6820499795021724,\n",
       "   'direction': 45.00000000000001,\n",
       "   'cluster': 2}],\n",
       " 'tracking': {'next_id': 5, 'missing': {}},\n",
       " 'clusters': [[495.25, 471.5], [122.0, 512.5], [1257.0, 300.0]]}"
      ]
     },
     "execution_count": 4,
     "metadata": {},
     "output_type": "execute_result"
    }
   ],
   "source": [
    "time0 = group.meanshift_group(time0)\n",
    "time0"
   ]
  },
  {
   "cell_type": "code",
   "execution_count": 6,
   "id": "4d0187da",
   "metadata": {},
   "outputs": [
    {
     "data": {
      "text/plain": [
       "'{\"objects\": [{\"box\": [521.0, 417.0, 609.0, 442.0], \"confidence\": 0.8895850777626038, \"class\": \"boats\", \"id\": \"4\", \"centroid\": [565.0, 429.5], \"speed\": 3.5681668404020375, \"direction\": 0.0, \"cluster\": 0}, {\"box\": [382.0, 500.0, 469.0, 527.0], \"confidence\": 0.8717858195304871, \"class\": \"boats\", \"id\": \"0\", \"centroid\": [425.5, 513.5], \"speed\": 9.589160252084428, \"direction\": 7.125016348901757, \"cluster\": 0}, {\"box\": [98.0, 354.0, 184.0, 417.0], \"confidence\": 0.8691210150718689, \"class\": \"boats\", \"id\": \"2\", \"centroid\": [141.0, 385.5], \"speed\": 6.935269733055477, \"direction\": 30.96375653207352, \"cluster\": 1}, {\"box\": [70.0, 601.0, 136.0, 678.0], \"confidence\": 0.8541313409805298, \"class\": \"boats\", \"id\": \"3\", \"centroid\": [103.0, 639.5], \"speed\": 1.1893889468006793, \"direction\": 90.0, \"cluster\": 1}, {\"box\": [1234.0, 269.0, 1280.0, 331.0], \"confidence\": 0.6892146468162537, \"class\": \"boats\", \"id\": \"1\", \"centroid\": [1257.0, 300.0], \"speed\": 1.6820499795021724, \"direction\": 45.00000000000001, \"cluster\": 2}], \"tracking\": {\"next_id\": 5, \"missing\": {}}, \"clusters\": [[495.25, 471.5], [122.0, 512.5], [1257.0, 300.0]]}'"
      ]
     },
     "execution_count": 6,
     "metadata": {},
     "output_type": "execute_result"
    }
   ],
   "source": [
    "import json\n",
    "json.dumps(time0)"
   ]
  },
  {
   "cell_type": "code",
   "execution_count": null,
   "id": "c2c2746f",
   "metadata": {},
   "outputs": [],
   "source": []
  }
 ],
 "metadata": {
  "kernelspec": {
   "display_name": "Python 3",
   "language": "python",
   "name": "python3"
  },
  "language_info": {
   "codemirror_mode": {
    "name": "ipython",
    "version": 3
   },
   "file_extension": ".py",
   "mimetype": "text/x-python",
   "name": "python",
   "nbconvert_exporter": "python",
   "pygments_lexer": "ipython3",
   "version": "3.8.3"
  }
 },
 "nbformat": 4,
 "nbformat_minor": 5
}
