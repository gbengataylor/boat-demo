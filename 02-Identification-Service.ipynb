{
 "cells": [
  {
   "cell_type": "code",
   "execution_count": 1,
   "id": "0bc51922",
   "metadata": {},
   "outputs": [],
   "source": [
    "from datetime import datetime\n",
    "import os\n",
    "import sys\n",
    "sys.path.insert(0, os.path.abspath('..'))\n",
    "\n",
    "import requests\n",
    "\n",
    "IDENT_URL = 'http://boat-identify:8080/v1/identify'"
   ]
  },
  {
   "cell_type": "code",
   "execution_count": 2,
   "id": "d7df0d59",
   "metadata": {},
   "outputs": [
    {
     "data": {
      "text/plain": [
       "(datetime.datetime(2021, 4, 22, 3, 40, 31, 994728),\n",
       " None,\n",
       " {'objects': [{'box': [207.0, 509.0, 299.0, 532.0],\n",
       "    'confidence': 0.8941678404808044,\n",
       "    'class': 'boats',\n",
       "    'id': '0'},\n",
       "   {'box': [65.0, 326.0, 136.0, 403.0],\n",
       "    'confidence': 0.8731332421302795,\n",
       "    'class': 'boats',\n",
       "    'id': '1'},\n",
       "   {'box': [1066.0, 109.0, 1142.0, 171.0],\n",
       "    'confidence': 0.8629531264305115,\n",
       "    'class': 'boats',\n",
       "    'id': '2'},\n",
       "   {'box': [82.0, 602.0, 149.0, 671.0],\n",
       "    'confidence': 0.8608279228210449,\n",
       "    'class': 'boats',\n",
       "    'id': '3'},\n",
       "   {'box': [298.0, 438.0, 383.0, 461.0],\n",
       "    'confidence': 0.8419623374938965,\n",
       "    'class': 'boats',\n",
       "    'id': '4'},\n",
       "   {'box': [242.0, 0.0, 298.0, 19.0],\n",
       "    'confidence': 0.6364468932151794,\n",
       "    'class': 'boats',\n",
       "    'id': '5'}],\n",
       "  'tracking': {'next_id': 6, 'missing': {}}})"
      ]
     },
     "execution_count": 2,
     "metadata": {},
     "output_type": "execute_result"
    }
   ],
   "source": [
    "#time0 = pipeline.snap()\n",
    "time0 = (datetime(2021, 4, 22, 3, 40, 31, 994728),\n",
    " None,\n",
    " {'objects': [{'box': [207.0, 509.0, 299.0, 532.0],\n",
    "      'confidence': 0.8941678404808044,\n",
    "      'class': 'boats'},\n",
    "     {'box': [65.0, 326.0, 136.0, 403.0],\n",
    "      'confidence': 0.8731332421302795,\n",
    "      'class': 'boats'},\n",
    "     {'box': [1066.0, 109.0, 1142.0, 171.0],\n",
    "      'confidence': 0.8629531264305115,\n",
    "      'class': 'boats'},\n",
    "     {'box': [82.0, 602.0, 149.0, 671.0],\n",
    "      'confidence': 0.8608279228210449,\n",
    "      'class': 'boats'},\n",
    "     {'box': [298.0, 438.0, 383.0, 461.0],\n",
    "      'confidence': 0.8419623374938965,\n",
    "      'class': 'boats'},\n",
    "     {'box': [242.0, 0.0, 298.0, 19.0],\n",
    "      'confidence': 0.6364468932151794,\n",
    "      'class': 'boats'}]})\n",
    "#time1 = pipeline.snap()\n",
    "time1 = (datetime(2021, 4, 22, 3, 40, 32, 757943),\n",
    " None,\n",
    " {'objects': [{'box': [211.0, 508.0, 307.0, 532.0],\n",
    "      'confidence': 0.8908742070198059,\n",
    "      'class': 'boats'},\n",
    "     {'box': [1073.0, 113.0, 1147.0, 176.0],\n",
    "      'confidence': 0.8825204968452454,\n",
    "      'class': 'boats'},\n",
    "     {'box': [67.0, 325.0, 136.0, 405.0],\n",
    "      'confidence': 0.8686448931694031,\n",
    "      'class': 'boats'},\n",
    "     {'box': [81.0, 601.0, 151.0, 672.0],\n",
    "      'confidence': 0.8586115837097168,\n",
    "      'class': 'boats'},\n",
    "     {'box': [305.0, 438.0, 390.0, 462.0],\n",
    "      'confidence': 0.8368647694587708,\n",
    "      'class': 'boats'}]})\n",
    "\n",
    "\n",
    "response = requests.post(IDENT_URL, json={\"last\": time0[2]}).json()\n",
    "time0 = (time0[0], time0[1], response)\n",
    "time0"
   ]
  },
  {
   "cell_type": "code",
   "execution_count": 3,
   "id": "b67b4a26",
   "metadata": {},
   "outputs": [
    {
     "data": {
      "text/plain": [
       "(datetime.datetime(2021, 4, 22, 3, 40, 32, 757943),\n",
       " None,\n",
       " {'objects': [{'box': [211.0, 508.0, 307.0, 532.0],\n",
       "    'confidence': 0.8908742070198059,\n",
       "    'class': 'boats',\n",
       "    'id': '0',\n",
       "    'centroid': [259.0, 520.0]},\n",
       "   {'box': [1073.0, 113.0, 1147.0, 176.0],\n",
       "    'confidence': 0.8825204968452454,\n",
       "    'class': 'boats',\n",
       "    'id': '2',\n",
       "    'centroid': [1110.0, 144.5]},\n",
       "   {'box': [67.0, 325.0, 136.0, 405.0],\n",
       "    'confidence': 0.8686448931694031,\n",
       "    'class': 'boats',\n",
       "    'id': '1',\n",
       "    'centroid': [101.5, 365.0]},\n",
       "   {'box': [81.0, 601.0, 151.0, 672.0],\n",
       "    'confidence': 0.8586115837097168,\n",
       "    'class': 'boats',\n",
       "    'id': '3',\n",
       "    'centroid': [116.0, 636.5]},\n",
       "   {'box': [305.0, 438.0, 390.0, 462.0],\n",
       "    'confidence': 0.8368647694587708,\n",
       "    'class': 'boats',\n",
       "    'id': '4',\n",
       "    'centroid': [347.5, 450.0]}],\n",
       "  'tracking': {'next_id': 6,\n",
       "   'missing': {'5': {'box': [242.0, 0.0, 298.0, 19.0],\n",
       "     'confidence': 0.6364468932151794,\n",
       "     'class': 'boats',\n",
       "     'id': '5',\n",
       "     'centroid': [270.0, 9.5],\n",
       "     'frames': 1}}}})"
      ]
     },
     "execution_count": 3,
     "metadata": {},
     "output_type": "execute_result"
    }
   ],
   "source": [
    "response = requests.post(IDENT_URL, json={\"last\": time0[2], \"now\": time1[2]}).json()\n",
    "time1 = (time1[0], time1[1], response)\n",
    "time1"
   ]
  },
  {
   "cell_type": "code",
   "execution_count": 4,
   "id": "63b0ebc7",
   "metadata": {},
   "outputs": [
    {
     "data": {
      "text/plain": [
       "(None,\n",
       " None,\n",
       " {'objects': [{'box': [207.0, 509.0, 299.0, 532.0],\n",
       "    'confidence': 0.8941678404808044,\n",
       "    'class': 'boats',\n",
       "    'id': '0',\n",
       "    'centroid': [253.0, 520.5]},\n",
       "   {'box': [65.0, 326.0, 136.0, 403.0],\n",
       "    'confidence': 0.8731332421302795,\n",
       "    'class': 'boats',\n",
       "    'id': '1',\n",
       "    'centroid': [100.5, 364.5]},\n",
       "   {'box': [1066.0, 109.0, 1142.0, 171.0],\n",
       "    'confidence': 0.8629531264305115,\n",
       "    'class': 'boats',\n",
       "    'id': '2',\n",
       "    'centroid': [1104.0, 140.0]},\n",
       "   {'box': [82.0, 602.0, 149.0, 671.0],\n",
       "    'confidence': 0.8608279228210449,\n",
       "    'class': 'boats',\n",
       "    'id': '3',\n",
       "    'centroid': [115.5, 636.5]},\n",
       "   {'box': [298.0, 438.0, 383.0, 461.0],\n",
       "    'confidence': 0.8419623374938965,\n",
       "    'class': 'boats',\n",
       "    'id': '4',\n",
       "    'centroid': [340.5, 449.5]},\n",
       "   {'box': [242.0, 0.0, 298.0, 19.0],\n",
       "    'confidence': 0.6364468932151794,\n",
       "    'class': 'boats',\n",
       "    'id': '5',\n",
       "    'centroid': [270.0, 9.5]}],\n",
       "  'tracking': {'next_id': 6, 'missing': {}}})"
      ]
     },
     "execution_count": 4,
     "metadata": {},
     "output_type": "execute_result"
    }
   ],
   "source": [
    "response = requests.post(IDENT_URL, json={\"last\": time1[2], \"now\": time0[2]}).json()\n",
    "time2 = (None, None, response)\n",
    "time2"
   ]
  },
  {
   "cell_type": "code",
   "execution_count": null,
   "id": "ebd41a03",
   "metadata": {},
   "outputs": [],
   "source": []
  },
  {
   "cell_type": "code",
   "execution_count": null,
   "id": "84a31aba",
   "metadata": {},
   "outputs": [],
   "source": []
  }
 ],
 "metadata": {
  "kernelspec": {
   "display_name": "Python 3",
   "language": "python",
   "name": "python3"
  },
  "language_info": {
   "codemirror_mode": {
    "name": "ipython",
    "version": 3
   },
   "file_extension": ".py",
   "mimetype": "text/x-python",
   "name": "python",
   "nbconvert_exporter": "python",
   "pygments_lexer": "ipython3",
   "version": "3.8.3"
  }
 },
 "nbformat": 4,
 "nbformat_minor": 5
}
